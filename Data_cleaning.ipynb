{
 "cells": [
  {
   "cell_type": "markdown",
   "metadata": {},
   "source": []
  },
  {
   "cell_type": "code",
   "execution_count": 2,
   "metadata": {},
   "outputs": [
    {
     "name": "stdout",
     "output_type": "stream",
     "text": [
      "                      Date Service_Type   Resource_ID          Region  \\\n",
      "0      2023-01-01 00:00:00          RDS    i-12345678  ap-southeast-1   \n",
      "1      2023-01-01 01:00:00     DynamoDB  bucket-12345       us-west-2   \n",
      "2      2023-01-01 02:00:00       Lambda    i-87654321       us-east-1   \n",
      "3      2023-01-01 03:00:00     DynamoDB  bucket-12345  ap-southeast-1   \n",
      "4      2023-01-01 04:00:00     DynamoDB  bucket-12345       us-east-1   \n",
      "...                    ...          ...           ...             ...   \n",
      "10095  2023-12-22 14:00:00          EC2  vol-12345678       us-west-2   \n",
      "10096  2023-01-30 20:00:00          EC2    i-12345678       us-east-1   \n",
      "10097  2023-05-16 18:00:00     DynamoDB  vol-12345678       us-east-1   \n",
      "10098  2023-09-02 04:00:00           S3  vol-12345678    eu-central-1   \n",
      "10099  2023-05-18 10:00:00     DynamoDB    i-87654321       us-west-2   \n",
      "\n",
      "       Usage_Quantity     Cost Usage_Type Account   Owner Resource_State  \n",
      "0                 NaN   215.11  On-Demand  Dept_D  User_2     Terminated  \n",
      "1               60.58  3711.62   Reserved  Dept_D  User_2            NaN  \n",
      "2               61.67  4398.92   Reserved  Dept_B  User_3        Stopped  \n",
      "3               17.11  2126.54  On-Demand  Dept_D  User_3     Terminated  \n",
      "4               68.67  2068.36  On-Demand  Dept_B  User_2        Running  \n",
      "...               ...      ...        ...     ...     ...            ...  \n",
      "10095           34.30  1530.71  On-Demand  Dept_C  User_4        Stopped  \n",
      "10096           73.29  1633.89       Spot  Dept_A  User_2     Terminated  \n",
      "10097           98.18  2742.72  On-Demand  Dept_A  User_3        Stopped  \n",
      "10098           19.45   287.80       Spot  Dept_D  User_3     Terminated  \n",
      "10099           44.10  2010.15  On-Demand  Dept_A  User_2     Terminated  \n",
      "\n",
      "[10100 rows x 10 columns]\n"
     ]
    }
   ],
   "source": [
    "# importing the necessary libraries and dataset\n",
    "\n",
    "import pandas as pd\n",
    "df = pd.read_csv(\"C:/Users/HP/Downloads/cloud_infrastructure_cost_optimization.csv\")\n",
    "\n",
    "print (df)"
   ]
  },
  {
   "cell_type": "code",
   "execution_count": null,
   "metadata": {},
   "outputs": [],
   "source": []
  },
  {
   "cell_type": "markdown",
   "metadata": {},
   "source": []
  }
 ],
 "metadata": {
  "kernelspec": {
   "display_name": "AdvancedPython",
   "language": "python",
   "name": "python3"
  },
  "language_info": {
   "codemirror_mode": {
    "name": "ipython",
    "version": 3
   },
   "file_extension": ".py",
   "mimetype": "text/x-python",
   "name": "python",
   "nbconvert_exporter": "python",
   "pygments_lexer": "ipython3",
   "version": "3.12.4"
  }
 },
 "nbformat": 4,
 "nbformat_minor": 2
}
