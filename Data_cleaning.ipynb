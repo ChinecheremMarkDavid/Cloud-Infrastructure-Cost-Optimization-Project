{
 "cells": [
  {
   "cell_type": "markdown",
   "metadata": {},
   "source": []
  },
  {
   "cell_type": "code",
   "execution_count": 9,
   "metadata": {},
   "outputs": [],
   "source": [
    "# importing the necessary libraries and loading the dataset\n",
    "\n",
    "import pandas as pd\n",
    "df = pd.read_csv(\"C:/Users/HP/Downloads/cloud_infrastructure_cost_optimization.csv\")\n",
    "\n"
   ]
  },
  {
   "cell_type": "markdown",
   "metadata": {},
   "source": [
    "## Data cleaning"
   ]
  },
  {
   "cell_type": "code",
   "execution_count": null,
   "metadata": {},
   "outputs": [],
   "source": [
    "# remove all empty rows in the dataset\n",
    "clean_df = df.dropna()"
   ]
  },
  {
   "cell_type": "code",
   "execution_count": 10,
   "metadata": {},
   "outputs": [
    {
     "name": "stdout",
     "output_type": "stream",
     "text": [
      "2        False\n",
      "3        False\n",
      "4        False\n",
      "6        False\n",
      "7        False\n",
      "         ...  \n",
      "10095     True\n",
      "10096     True\n",
      "10097     True\n",
      "10098     True\n",
      "10099     True\n",
      "Length: 6043, dtype: bool\n"
     ]
    }
   ],
   "source": [
    "# verify if there are any duplicate data\n",
    "\n",
    "print (clean_df.duplicated())\n",
    "\n",
    "# As the result below shows that some returned true, it means that we have duplicates in our\n",
    "# dataset and they need to be cleaned"
   ]
  },
  {
   "cell_type": "code",
   "execution_count": null,
   "metadata": {},
   "outputs": [],
   "source": []
  },
  {
   "cell_type": "code",
   "execution_count": null,
   "metadata": {},
   "outputs": [],
   "source": []
  },
  {
   "cell_type": "code",
   "execution_count": null,
   "metadata": {},
   "outputs": [],
   "source": []
  },
  {
   "cell_type": "code",
   "execution_count": null,
   "metadata": {},
   "outputs": [],
   "source": []
  }
 ],
 "metadata": {
  "kernelspec": {
   "display_name": "AdvancedPython",
   "language": "python",
   "name": "python3"
  },
  "language_info": {
   "codemirror_mode": {
    "name": "ipython",
    "version": 3
   },
   "file_extension": ".py",
   "mimetype": "text/x-python",
   "name": "python",
   "nbconvert_exporter": "python",
   "pygments_lexer": "ipython3",
   "version": "3.12.4"
  }
 },
 "nbformat": 4,
 "nbformat_minor": 2
}
